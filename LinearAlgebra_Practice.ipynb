{
 "cells": [
  {
   "cell_type": "code",
   "execution_count": 1,
   "metadata": {},
   "outputs": [],
   "source": [
    "#import numpy library\n",
    "import numpy as np"
   ]
  },
  {
   "cell_type": "code",
   "execution_count": 23,
   "metadata": {},
   "outputs": [
    {
     "name": "stdout",
     "output_type": "stream",
     "text": [
      "[[1 2 3]\n",
      " [3 4 5]]\n",
      "Shape of M1 (2, 3)\n",
      "[[5 6]\n",
      " [7 8]\n",
      " [9 0]]\n",
      "Shape of M2 (3, 2)\n"
     ]
    }
   ],
   "source": [
    "#create two matrices M1 (2x3) and M2 (3x2) and print them\n",
    "\n",
    "##Write your code below this##\n",
    "M1=np.array([[1,2,3],[3,4,5]])\n",
    "print(M1)\n",
    "print(\"Shape of M1\",M1.shape)\n",
    "M2=np.array([[5,6],[7,8],[9,0]])\n",
    "print(M2)\n",
    "print(\"Shape of M2\",M2.shape)\n",
    "##Write your code above this##"
   ]
  },
  {
   "cell_type": "code",
   "execution_count": 24,
   "metadata": {},
   "outputs": [
    {
     "name": "stdout",
     "output_type": "stream",
     "text": [
      "[[46 22]\n",
      " [88 50]]\n"
     ]
    }
   ],
   "source": [
    "#Multiply (Matrix Multiplication) M1 and M2 and store the results in M3, print M3\n",
    "\n",
    "##Write your code below this##\n",
    "M3=np.matmul(M1,M2)\n",
    "print(M3)\n",
    "##Write your code above this##"
   ]
  },
  {
   "cell_type": "code",
   "execution_count": 52,
   "metadata": {},
   "outputs": [
    {
     "data": {
      "text/plain": [
       "array([[0.78241607, 0.68186238],\n",
       "       [0.34231922, 0.46272443],\n",
       "       [0.5065235 , 0.19980316]])"
      ]
     },
     "execution_count": 52,
     "metadata": {},
     "output_type": "execute_result"
    }
   ],
   "source": [
    "#Create a column vector of the size 6x1 and convert it to a matrix of the size 3x2\n",
    "\n",
    "##Write your code below this##\n",
    "v1=np.random.rand(6,1)\n",
    "v1=v1.reshape(3,2)\n",
    "v1\n",
    "\n",
    "##Write your code above this##"
   ]
  },
  {
   "cell_type": "code",
   "execution_count": 48,
   "metadata": {},
   "outputs": [
    {
     "name": "stdout",
     "output_type": "stream",
     "text": [
      "[[0.17248025 0.10918574 0.41512743]\n",
      " [0.9525259  0.01625779 0.5707278 ]]\n"
     ]
    }
   ],
   "source": [
    "#create a random matrix of size 2x3 and multiply it with an identity matrix, print the results you get?\n",
    "\n",
    "##Write your code below this##\n",
    "r=np.random.rand(2,3)\n",
    "s=np.identity(3)\n",
    "t=np.matmul(r,s)\n",
    "print(t)\n",
    "##Write your code above this##"
   ]
  },
  {
   "cell_type": "code",
   "execution_count": null,
   "metadata": {},
   "outputs": [],
   "source": []
  }
 ],
 "metadata": {
  "kernelspec": {
   "display_name": "Python 3",
   "language": "python",
   "name": "python3"
  },
  "language_info": {
   "codemirror_mode": {
    "name": "ipython",
    "version": 3
   },
   "file_extension": ".py",
   "mimetype": "text/x-python",
   "name": "python",
   "nbconvert_exporter": "python",
   "pygments_lexer": "ipython3",
   "version": "3.7.6"
  }
 },
 "nbformat": 4,
 "nbformat_minor": 2
}
