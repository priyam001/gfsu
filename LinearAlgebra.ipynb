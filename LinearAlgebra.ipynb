{
 "cells": [
  {
   "cell_type": "code",
   "execution_count": 1,
   "metadata": {},
   "outputs": [],
   "source": [
    "#import numpy library\n",
    "import numpy as np"
   ]
  },
  {
   "cell_type": "code",
   "execution_count": 2,
   "metadata": {},
   "outputs": [
    {
     "name": "stdout",
     "output_type": "stream",
     "text": [
      "[1 2 3 4]\n",
      "(4,)\n"
     ]
    }
   ],
   "source": [
    "#create a row vector v1 as a numpy array\n",
    "v1 = np.array([1, 2, 3, 4])\n",
    "\n",
    "#print the v1 vector\n",
    "print(v1)\n",
    "\n",
    "#print shape of the array, observe last argument after ,\n",
    "print(v1.shape)"
   ]
  },
  {
   "cell_type": "code",
   "execution_count": 3,
   "metadata": {},
   "outputs": [
    {
     "name": "stdout",
     "output_type": "stream",
     "text": [
      "[1. 2. 3. 4.]\n",
      "(4,)\n"
     ]
    }
   ],
   "source": [
    "#create a row vector v2 as a numpy array\n",
    "v2 = np.array([1.0, 2.0, 3.0, 4.0])\n",
    "\n",
    "#print the v2 vector\n",
    "print(v2)\n",
    "\n",
    "#print shape of the array, observe last argument after ,\n",
    "print(v2.shape)"
   ]
  },
  {
   "cell_type": "code",
   "execution_count": 4,
   "metadata": {},
   "outputs": [
    {
     "name": "stdout",
     "output_type": "stream",
     "text": [
      "[[1]\n",
      " [2]\n",
      " [3]\n",
      " [4]]\n",
      "(4, 1)\n"
     ]
    }
   ],
   "source": [
    "#create a column vector v3 as a numpy array\n",
    "v3 = np.array([[1],[2],[3],[4]])\n",
    "\n",
    "#print the v3 vector\n",
    "print(v3)\n",
    "\n",
    "#print shape of the array, observe last argument after ,\n",
    "print(v3.shape)"
   ]
  },
  {
   "cell_type": "code",
   "execution_count": 5,
   "metadata": {},
   "outputs": [
    {
     "name": "stdout",
     "output_type": "stream",
     "text": [
      "[['India']\n",
      " ['USA']\n",
      " ['UK']\n",
      " ['Russia']]\n",
      "(4, 1)\n"
     ]
    }
   ],
   "source": [
    "#create a column vector v4 of strings as a numpy array\n",
    "v4 = np.array([['India'],['USA'],['UK'],['Russia']])\n",
    "\n",
    "#print the v4 vector\n",
    "print(v4)\n",
    "\n",
    "#print shape of the array, observe last argument after ,\n",
    "print(v4.shape)"
   ]
  },
  {
   "cell_type": "code",
   "execution_count": 6,
   "metadata": {},
   "outputs": [
    {
     "name": "stdout",
     "output_type": "stream",
     "text": [
      "[2. 4. 6. 8.]\n",
      "(4,)\n"
     ]
    }
   ],
   "source": [
    "#add v1, v2 and save it to v5\n",
    "v5 = v1+v2\n",
    "\n",
    "#print the v5 vector\n",
    "print(v5)\n",
    "\n",
    "#print shape of the array, observe last argument after ,\n",
    "print(v5.shape)"
   ]
  },
  {
   "cell_type": "code",
   "execution_count": 7,
   "metadata": {},
   "outputs": [
    {
     "name": "stdout",
     "output_type": "stream",
     "text": [
      "[ 1.  4.  9. 16.]\n",
      "(4,)\n"
     ]
    }
   ],
   "source": [
    "#multiply v1, v2 and save it to v6\n",
    "v6 = v1*v2\n",
    "\n",
    "#print the v6 vector\n",
    "print(v6)\n",
    "\n",
    "#print shape of the array, observe last argument after ,\n",
    "print(v6.shape)"
   ]
  },
  {
   "cell_type": "code",
   "execution_count": 8,
   "metadata": {},
   "outputs": [
    {
     "name": "stdout",
     "output_type": "stream",
     "text": [
      "[[1 2]\n",
      " [3 4]]\n",
      "(2, 2)\n"
     ]
    }
   ],
   "source": [
    "#create 2x2 matrix A\n",
    "A = np.array([[1,2],[3,4]])\n",
    "\n",
    "#print the matrix\n",
    "print(A)\n",
    "\n",
    "print(A.shape)"
   ]
  },
  {
   "cell_type": "code",
   "execution_count": 9,
   "metadata": {},
   "outputs": [
    {
     "name": "stdout",
     "output_type": "stream",
     "text": [
      "[[5 6]\n",
      " [7 8]]\n",
      "(2, 2)\n"
     ]
    }
   ],
   "source": [
    "#create another 2x2 matrix B\n",
    "B = np.array([[5,6],[7,8]])\n",
    "\n",
    "#print the matrix\n",
    "print(B)\n",
    "\n",
    "print(B.shape)"
   ]
  },
  {
   "cell_type": "code",
   "execution_count": 10,
   "metadata": {},
   "outputs": [
    {
     "name": "stdout",
     "output_type": "stream",
     "text": [
      "[[ 6  8]\n",
      " [10 12]]\n",
      "(2, 2)\n"
     ]
    }
   ],
   "source": [
    "#C = A+B\n",
    "C = A+B\n",
    "\n",
    "#print the matrix\n",
    "print(C)\n",
    "\n",
    "print(C.shape)"
   ]
  },
  {
   "cell_type": "code",
   "execution_count": 11,
   "metadata": {},
   "outputs": [
    {
     "name": "stdout",
     "output_type": "stream",
     "text": [
      "[[ 5 12]\n",
      " [21 32]]\n",
      "(2, 2)\n"
     ]
    }
   ],
   "source": [
    "#D = AxB\n",
    "D = A*B\n",
    "\n",
    "#print the matrix and check the result\n",
    "print(D)\n",
    "\n",
    "print(D.shape)"
   ]
  },
  {
   "cell_type": "code",
   "execution_count": 12,
   "metadata": {},
   "outputs": [
    {
     "name": "stdout",
     "output_type": "stream",
     "text": [
      "[[19 22]\n",
      " [43 50]]\n",
      "(2, 2)\n"
     ]
    }
   ],
   "source": [
    "#E = A*B (Matrix Multiplication)\n",
    "E = np.matmul(A,B)\n",
    "\n",
    "#print the matrix and check the result - This result is different than previous cell, why?\n",
    "print(E)\n",
    "\n",
    "print(E.shape)"
   ]
  },
  {
   "cell_type": "code",
   "execution_count": 13,
   "metadata": {},
   "outputs": [
    {
     "name": "stdout",
     "output_type": "stream",
     "text": [
      "[[0. 0. 0. 0.]\n",
      " [0. 0. 0. 0.]\n",
      " [0. 0. 0. 0.]]\n"
     ]
    }
   ],
   "source": [
    "#Create matrix of zeros of the size 3x4\n",
    "Z = np.zeros((3,4))\n",
    "print(Z)"
   ]
  },
  {
   "cell_type": "code",
   "execution_count": 14,
   "metadata": {},
   "outputs": [
    {
     "name": "stdout",
     "output_type": "stream",
     "text": [
      "[[1. 0. 0. 0.]\n",
      " [0. 1. 0. 0.]\n",
      " [0. 0. 1. 0.]\n",
      " [0. 0. 0. 1.]]\n"
     ]
    }
   ],
   "source": [
    "#Create identity matrix\n",
    "I = np.identity(4)\n",
    "print(I)"
   ]
  },
  {
   "cell_type": "code",
   "execution_count": 15,
   "metadata": {},
   "outputs": [
    {
     "name": "stdout",
     "output_type": "stream",
     "text": [
      "[[0.06442327 0.33759427 0.00492211 0.2078379 ]\n",
      " [0.34841314 0.29280966 0.49773439 0.61034942]\n",
      " [0.47720909 0.0273487  0.80492844 0.14560915]\n",
      " [0.01662968 0.76768731 0.95524208 0.13493224]]\n"
     ]
    }
   ],
   "source": [
    "\n",
    "#Create a random matrix\n",
    "R = np.random.rand(4,4)\n",
    "print(R)"
   ]
  },
  {
   "cell_type": "code",
   "execution_count": 18,
   "metadata": {},
   "outputs": [
    {
     "name": "stdout",
     "output_type": "stream",
     "text": [
      "T1:\n",
      "[[1 2]\n",
      " [3 4]\n",
      " [5 6]]\n"
     ]
    },
    {
     "data": {
      "text/plain": [
       "array([[1, 3, 5],\n",
       "       [2, 4, 6]])"
      ]
     },
     "execution_count": 18,
     "metadata": {},
     "output_type": "execute_result"
    }
   ],
   "source": [
    "#Transpose of a matrix\n",
    "T1 = np.array([[1,2],[3,4],[5,6]])\n",
    "print(\"T1:\")\n",
    "print(T1)\n",
    "T1.transpose()\n",
    "#T2 = np.matrix.transpose(T1)\n",
    "#print(\"\\n\\nTranspose of T1:\")\n",
    "#print(T2)"
   ]
  },
  {
   "cell_type": "code",
   "execution_count": 28,
   "metadata": {},
   "outputs": [
    {
     "name": "stdout",
     "output_type": "stream",
     "text": [
      "X1:\n",
      "[[1 2]\n",
      " [3 4]\n",
      " [5 6]]\n",
      "\n",
      "\n",
      "X2:\n",
      "[1 2 3 4 5 6]\n"
     ]
    }
   ],
   "source": [
    "#Reshape\n",
    "X1 = np.array([[1,2],[3,4],[5,6]])\n",
    "print(\"X1:\")\n",
    "print(X1)\n",
    "\n",
    "X2 = X1.reshape(6)\n",
    "print(\"\\n\\nX2:\")\n",
    "print(X2)"
   ]
  }
 ],
 "metadata": {
  "kernelspec": {
   "display_name": "Python 3",
   "language": "python",
   "name": "python3"
  },
  "language_info": {
   "codemirror_mode": {
    "name": "ipython",
    "version": 3
   },
   "file_extension": ".py",
   "mimetype": "text/x-python",
   "name": "python",
   "nbconvert_exporter": "python",
   "pygments_lexer": "ipython3",
   "version": "3.7.6"
  }
 },
 "nbformat": 4,
 "nbformat_minor": 2
}
